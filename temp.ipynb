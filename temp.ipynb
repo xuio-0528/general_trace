{
 "cells": [
  {
   "cell_type": "code",
   "execution_count": 1,
   "metadata": {},
   "outputs": [
    {
     "name": "stderr",
     "output_type": "stream",
     "text": [
      "Downloading data: 100%|██████████| 181M/181M [00:11<00:00, 15.6MB/s]\n",
      "Downloading data: 100%|██████████| 206M/206M [00:12<00:00, 15.9MB/s]\n",
      "Downloading data: 100%|██████████| 189M/189M [00:12<00:00, 15.7MB/s]\n",
      "Downloading data: 100%|██████████| 217M/217M [00:14<00:00, 15.4MB/s]\n",
      "Downloading data: 100%|██████████| 179M/179M [00:12<00:00, 14.7MB/s]\n",
      "Downloading data: 100%|██████████| 198M/198M [00:14<00:00, 13.3MB/s]\n",
      "Downloading data: 100%|██████████| 223M/223M [00:15<00:00, 14.2MB/s]\n",
      "Downloading data: 100%|██████████| 181M/181M [00:11<00:00, 15.2MB/s]\n",
      "Downloading data: 100%|██████████| 186M/186M [00:11<00:00, 15.7MB/s]\n",
      "Downloading data: 100%|██████████| 204M/204M [00:12<00:00, 15.8MB/s]\n",
      "Downloading data: 100%|██████████| 188M/188M [00:12<00:00, 15.6MB/s]\n",
      "Downloading data: 100%|██████████| 151M/151M [00:09<00:00, 15.6MB/s]\n",
      "Downloading data: 100%|██████████| 204M/204M [00:12<00:00, 16.1MB/s]\n",
      "Downloading data: 100%|██████████| 231M/231M [00:14<00:00, 16.0MB/s]\n",
      "Downloading data: 100%|██████████| 204M/204M [00:22<00:00, 9.16MB/s]\n",
      "Downloading data: 100%|██████████| 63.1M/63.1M [00:03<00:00, 17.2MB/s]\n",
      "Downloading data: 100%|██████████| 51.8M/51.8M [00:04<00:00, 12.8MB/s]\n",
      "Downloading data files: 100%|██████████| 3/3 [09:26<00:00, 188.70s/it]\n",
      "Extracting data files: 100%|██████████| 3/3 [00:00<00:00, 111.94it/s]\n",
      "                                                                                     \r"
     ]
    },
    {
     "name": "stdout",
     "output_type": "stream",
     "text": [
      "Dataset parquet downloaded and prepared to /root/.cache/huggingface/datasets/deepmind___parquet/deepmind--code_contests-c83aff5e5b92def4/0.0.0/2a3b91fbd88a2c90d1dbbb32b460cf621d31bd5b05b934492fdef7d8d6f236ec. Subsequent calls will reuse this data.\n"
     ]
    },
    {
     "name": "stderr",
     "output_type": "stream",
     "text": [
      "100%|██████████| 3/3 [00:00<00:00, 52.73it/s]\n"
     ]
    }
   ],
   "source": [
    "from datasets import load_dataset\n",
    "\n",
    "data = load_dataset('deepmind/code_contests')"
   ]
  },
  {
   "cell_type": "code",
   "execution_count": 4,
   "metadata": {},
   "outputs": [
    {
     "data": {
      "text/plain": [
       "152"
      ]
     },
     "execution_count": 4,
     "metadata": {},
     "output_type": "execute_result"
    }
   ],
   "source": [
    "train = data['train']\n",
    "len(train[0]['solutions']['solution'][0])"
   ]
  },
  {
   "cell_type": "code",
   "execution_count": 3,
   "metadata": {},
   "outputs": [
    {
     "name": "stdout",
     "output_type": "stream",
     "text": [
      "\n",
      "\n",
      "METADATA = {\n",
      "    'author': 'jt',\n",
      "    'dataset': 'test'\n",
      "}\n",
      "\n",
      "\n",
      "def check(candidate):\n",
      "    assert candidate([1.0, 2.0, 3.9, 4.0, 5.0, 2.2], 0.3) == True\n",
      "    assert candidate([1.0, 2.0, 3.9, 4.0, 5.0, 2.2], 0.05) == False\n",
      "    assert candidate([1.0, 2.0, 5.9, 4.0, 5.0], 0.95) == True\n",
      "    assert candidate([1.0, 2.0, 5.9, 4.0, 5.0], 0.8) == False\n",
      "    assert candidate([1.0, 2.0, 3.0, 4.0, 5.0, 2.0], 0.1) == True\n",
      "    assert candidate([1.1, 2.2, 3.1, 4.1, 5.1], 1.0) == True\n",
      "    assert candidate([1.1, 2.2, 3.1, 4.1, 5.1], 0.5) == False\n",
      "\n",
      "\n"
     ]
    }
   ],
   "source": [
    "print(data['test'][0]['test'])"
   ]
  },
  {
   "cell_type": "code",
   "execution_count": 7,
   "metadata": {},
   "outputs": [
    {
     "name": "stdout",
     "output_type": "stream",
     "text": [
      "from typing import List\n",
      "\n",
      "\n",
      "def has_close_elements(numbers: List[float], threshold: float) -> bool:\n",
      "    \"\"\" Check if in given list of numbers, are any two numbers closer to each other than\n",
      "    given threshold.\n",
      "    >>> has_close_elements([1.0, 2.0, 3.0], 0.5)\n",
      "    False\n",
      "    >>> has_close_elements([1.0, 2.8, 3.0, 4.0, 5.0, 2.0], 0.3)\n",
      "    True\n",
      "    \"\"\"\n",
      "\n"
     ]
    }
   ],
   "source": [
    "print(data['test'][0]['prompt'])"
   ]
  },
  {
   "cell_type": "code",
   "execution_count": null,
   "metadata": {},
   "outputs": [],
   "source": [
    "import json \n",
    "\n",
    "data = load_dataset('deepmind/code_contests')\n",
    "\n",
    "train = data['train']\n",
    "valid = data['valid']\n",
    "test = data['test']\n",
    "\n",
    "with open(\"./data/codecontest_train.jsonl\" , encoding= \"utf-8\",mode=\"w\") as file: \n",
    "\tfor i in train: file.write(json.dumps(i) + \"\\n\")\n",
    "with open(\"./data/codecontest_valid.jsonl\" , encoding= \"utf-8\",mode=\"w\") as file: \n",
    "\tfor i in valid: file.write(json.dumps(i) + \"\\n\")\n",
    "with open(\"./data/codecontest_test.jsonl\" , encoding= \"utf-8\",mode=\"w\") as file: \n",
    "\tfor i in test: file.write(json.dumps(i) + \"\\n\")\n",
    "print('완료')"
   ]
  },
  {
   "cell_type": "code",
   "execution_count": 1,
   "metadata": {},
   "outputs": [
    {
     "name": "stdout",
     "output_type": "stream",
     "text": [
      "def something():\n",
      "\tfor _ in range(input()):\n",
      "\t\ttry:\n",
      "\t\t\teval(raw_input())\n",
      "\t\t\tprint('YES')\n",
      "\t\texcept TypeError:\n",
      "\t\t\tprint('YES')\n",
      "\t\texcept:\n",
      "\t\t\tprint('NO')\n",
      "[<Node type=\"try\", start_point=(2, 2), end_point=(2, 5)>, <Node type=\":\", start_point=(2, 5), end_point=(2, 6)>, <Node type=block, start_point=(3, 3), end_point=(4, 15)>, <Node type=except_clause, start_point=(5, 2), end_point=(6, 15)>, <Node type=except_clause, start_point=(7, 2), end_point=(8, 14)>]\n"
     ]
    }
   ],
   "source": [
    "from tree_sitter import Language, Parser\n",
    "\n",
    "parser = Parser()\n",
    "PY_LANGUAGE = Language('build/my-languages.so', 'python')\n",
    "parser.set_language(PY_LANGUAGE)\n",
    "solution = \"def something():\\n\\tfor _ in range(input()):\".replace(\"\\\\n\", \"\\n\").replace('\\\\t','\\t')+\"\\n\\ttry:\\n\\t\\teval(raw_input())\\n\\t\\tprint('YES')\\n\\texcept TypeError:\\n\\t\\tprint('YES')\\n\\texcept:\\n\\t\\tprint('NO')\".replace(\"\\\\n\", \"\\n\").replace('\\\\t','\\t').replace('\\n\\t','\\n\\t\\t')\n",
    "print(solution)\n",
    "tree = parser.parse(bytes(solution, \"utf8\"))\n",
    "print(tree.root_node.children[0].children[-1].children[0].children[-1].children[0].children)"
   ]
  },
  {
   "cell_type": "code",
   "execution_count": 4,
   "metadata": {},
   "outputs": [
    {
     "data": {
      "text/plain": [
       "True"
      ]
     },
     "execution_count": 4,
     "metadata": {},
     "output_type": "execute_result"
    }
   ],
   "source": [
    "from tree_sitter import Language, Parser\n",
    "\n",
    "Language.build_library(\n",
    "  # Store the library in the `build` directory\n",
    "  'build/my-languages.so',\n",
    "\n",
    "  # Include one or more languages\n",
    "  [\n",
    "    './tree-sitter-python'\n",
    "  ]\n",
    ")"
   ]
  },
  {
   "cell_type": "code",
   "execution_count": 4,
   "metadata": {},
   "outputs": [
    {
     "name": "stdout",
     "output_type": "stream",
     "text": [
      "dict_keys(['__name__', '__doc__', '__package__', '__loader__', '__spec__', '__builtin__', '__builtins__', '_ih', '_oh', '_dh', 'In', 'Out', 'get_ipython', 'exit', 'quit', '_', '__', '___', '__vsc_ipynb_file__', '_i', '_ii', '_iii', '_i1', 'code', 'a', '_i2', 'b', 'i', '_i3', '_i4'])\n",
      "Yes\n",
      "{'__name__': '__main__', '__doc__': 'Automatically created module for IPython interactive environment', '__package__': None, '__loader__': None, '__spec__': None, '__builtin__': <module 'builtins' (built-in)>, '__builtins__': <module 'builtins' (built-in)>, '_ih': ['', 'code = \"\"\"\\na = int(input().strip())\\nb = int(intput().strip())\\nfor i in range(5):\\n    a+=1\\n    b-=1\\nprint(locals())\\nprint(\"Yes\")\\nprint(locals())\"\"\"\\n\\nexec(code)', 'code = \"\"\"\\na = int(input().strip())\\nb = int(input().strip())\\nfor i in range(5):\\n    a+=1\\n    b-=1\\nprint(locals())\\nprint(\"Yes\")\\nprint(locals())\"\"\"\\n\\nexec(code)', 'code = \"\"\"\\na = int(input().strip())\\nb = int(input().strip())\\nfor i in range(5):\\n    a+=1\\n    b-=1\\nprint(locals()[\\'code\\'])\\nprint(\"Yes\")\\nprint(locals())\"\"\"\\n\\nexec(code)', 'code = \"\"\"\\na = int(input().strip())\\nb = int(input().strip())\\nfor i in range(5):\\n    a+=1\\n    b-=1\\nprint(locals().keys())\\nprint(\"Yes\")\\nprint(locals())\"\"\"\\n\\nexec(code)'], '_oh': {}, '_dh': [PosixPath('/root/eunki/baseline')], 'In': ['', 'code = \"\"\"\\na = int(input().strip())\\nb = int(intput().strip())\\nfor i in range(5):\\n    a+=1\\n    b-=1\\nprint(locals())\\nprint(\"Yes\")\\nprint(locals())\"\"\"\\n\\nexec(code)', 'code = \"\"\"\\na = int(input().strip())\\nb = int(input().strip())\\nfor i in range(5):\\n    a+=1\\n    b-=1\\nprint(locals())\\nprint(\"Yes\")\\nprint(locals())\"\"\"\\n\\nexec(code)', 'code = \"\"\"\\na = int(input().strip())\\nb = int(input().strip())\\nfor i in range(5):\\n    a+=1\\n    b-=1\\nprint(locals()[\\'code\\'])\\nprint(\"Yes\")\\nprint(locals())\"\"\"\\n\\nexec(code)', 'code = \"\"\"\\na = int(input().strip())\\nb = int(input().strip())\\nfor i in range(5):\\n    a+=1\\n    b-=1\\nprint(locals().keys())\\nprint(\"Yes\")\\nprint(locals())\"\"\"\\n\\nexec(code)'], 'Out': {}, 'get_ipython': <bound method InteractiveShell.get_ipython of <ipykernel.zmqshell.ZMQInteractiveShell object at 0x7f81bec0ba60>>, 'exit': <IPython.core.autocall.ZMQExitAutocall object at 0x7f81beaa0310>, 'quit': <IPython.core.autocall.ZMQExitAutocall object at 0x7f81beaa0310>, '_': '', '__': '', '___': '', '__vsc_ipynb_file__': '/root/eunki/baseline/temp.ipynb', '_i': 'code = \"\"\"\\na = int(input().strip())\\nb = int(input().strip())\\nfor i in range(5):\\n    a+=1\\n    b-=1\\nprint(locals()[\\'code\\'])\\nprint(\"Yes\")\\nprint(locals())\"\"\"\\n\\nexec(code)', '_ii': 'code = \"\"\"\\na = int(input().strip())\\nb = int(input().strip())\\nfor i in range(5):\\n    a+=1\\n    b-=1\\nprint(locals())\\nprint(\"Yes\")\\nprint(locals())\"\"\"\\n\\nexec(code)', '_iii': 'code = \"\"\"\\na = int(input().strip())\\nb = int(intput().strip())\\nfor i in range(5):\\n    a+=1\\n    b-=1\\nprint(locals())\\nprint(\"Yes\")\\nprint(locals())\"\"\"\\n\\nexec(code)', '_i1': 'code = \"\"\"\\na = int(input().strip())\\nb = int(intput().strip())\\nfor i in range(5):\\n    a+=1\\n    b-=1\\nprint(locals())\\nprint(\"Yes\")\\nprint(locals())\"\"\"\\n\\nexec(code)', 'code': '\\na = int(input().strip())\\nb = int(input().strip())\\nfor i in range(5):\\n    a+=1\\n    b-=1\\nprint(locals().keys())\\nprint(\"Yes\")\\nprint(locals())', 'a': 15, '_i2': 'code = \"\"\"\\na = int(input().strip())\\nb = int(input().strip())\\nfor i in range(5):\\n    a+=1\\n    b-=1\\nprint(locals())\\nprint(\"Yes\")\\nprint(locals())\"\"\"\\n\\nexec(code)', 'b': 5, 'i': 4, '_i3': 'code = \"\"\"\\na = int(input().strip())\\nb = int(input().strip())\\nfor i in range(5):\\n    a+=1\\n    b-=1\\nprint(locals()[\\'code\\'])\\nprint(\"Yes\")\\nprint(locals())\"\"\"\\n\\nexec(code)', '_i4': 'code = \"\"\"\\na = int(input().strip())\\nb = int(input().strip())\\nfor i in range(5):\\n    a+=1\\n    b-=1\\nprint(locals().keys())\\nprint(\"Yes\")\\nprint(locals())\"\"\"\\n\\nexec(code)'}\n"
     ]
    }
   ],
   "source": [
    "code = \"\"\"\n",
    "a = int(input().strip())\n",
    "b = int(input().strip())\n",
    "for i in range(5):\n",
    "    a+=1\n",
    "    b-=1\n",
    "print(locals().keys())\n",
    "print(\"Yes\")\n",
    "print(locals())\"\"\"\n",
    "\n",
    "exec(code)"
   ]
  },
  {
   "cell_type": "code",
   "execution_count": null,
   "metadata": {},
   "outputs": [],
   "source": [
    "# tree = parser.parse(bytes(code, \"utf8\"))"
   ]
  },
  {
   "cell_type": "code",
   "execution_count": 9,
   "metadata": {},
   "outputs": [
    {
     "name": "stdout",
     "output_type": "stream",
     "text": [
      "def candidate():\n",
      "\n",
      "\ta = int(input().strip())\n",
      "\tb = int(input().strip())\n",
      "\tfor i in range(5):\n",
      "\t    a+=1\n",
      "\t    b-=1\n",
      "\t    for j in range(5):\n",
      "\t        a-=1\n",
      "\tprint(locals().keys())\n",
      "\tprint(\"Yes\")\n",
      "\tprint(locals())\n",
      "\n",
      "a = int(input().strip())\n",
      "b = int(input().strip())\n",
      "for i in range(5):\n",
      "    a+=1\n",
      "    b-=1\n",
      "    for j in range(5):\n",
      "        a-=1\n",
      "print(locals().keys())\n",
      "print(\"Yes\")\n",
      "print(locals())\n"
     ]
    }
   ],
   "source": [
    "x = \"\"\"\n",
    "a = int(input().strip())\n",
    "b = int(input().strip())\n",
    "for i in range(5):\n",
    "    a+=1\n",
    "    b-=1\n",
    "    for j in range(5):\n",
    "        a-=1\n",
    "print(locals().keys())\n",
    "print(\"Yes\")\n",
    "print(locals())\"\"\".split('\\n')\n",
    "y = '\\n\\t'.join(x)\n",
    "print('def candidate():\\n' + y)\n",
    "print(y.replace('\\n\\t', '\\n'))"
   ]
  },
  {
   "cell_type": "code",
   "execution_count": 12,
   "metadata": {},
   "outputs": [],
   "source": [
    "temp = []\n",
    "def record_dict(candidate_dict):\n",
    "    temp.append(candidate_dict)\n",
    "x = \"\"\"\n",
    "a = int(input().strip())\n",
    "b = int(input().strip())\n",
    "for i in range(5):\n",
    "    a+=1\n",
    "    b-=1\n",
    "    for j in range(5):\n",
    "        a-=1\n",
    "record_dict(locals())\"\"\".split('\\n')\n",
    "y = '\\n\\t'.join(x)\n",
    "exec('def candidate():\\n' + y + '\\ncandidate()')"
   ]
  },
  {
   "cell_type": "code",
   "execution_count": 13,
   "metadata": {},
   "outputs": [
    {
     "data": {
      "text/plain": [
       "[{'a': -10, 'b': 5, 'i': 4, 'j': 4}]"
      ]
     },
     "execution_count": 13,
     "metadata": {},
     "output_type": "execute_result"
    }
   ],
   "source": [
    "temp"
   ]
  },
  {
   "cell_type": "code",
   "execution_count": null,
   "metadata": {},
   "outputs": [],
   "source": []
  }
 ],
 "metadata": {
  "kernelspec": {
   "display_name": "Python 3",
   "language": "python",
   "name": "python3"
  },
  "language_info": {
   "codemirror_mode": {
    "name": "ipython",
    "version": 3
   },
   "file_extension": ".py",
   "mimetype": "text/x-python",
   "name": "python",
   "nbconvert_exporter": "python",
   "pygments_lexer": "ipython3",
   "version": "3.10.11"
  },
  "orig_nbformat": 4
 },
 "nbformat": 4,
 "nbformat_minor": 2
}
